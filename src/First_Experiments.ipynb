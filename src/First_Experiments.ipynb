{
 "cells": [
  {
   "cell_type": "code",
   "execution_count": 2,
   "metadata": {
    "collapsed": false
   },
   "outputs": [
    {
     "name": "stderr",
     "output_type": "stream",
     "text": [
      "Using Theano backend.\n",
      "Using gpu device 0: Tesla K80 (CNMeM is disabled, cuDNN 5103)\n",
      "/home/ubuntu/anaconda2/lib/python2.7/site-packages/theano/sandbox/cuda/__init__.py:600: UserWarning: Your cuDNN version is more recent than the one Theano officially supports. If you see any problems, try updating Theano or downgrading cuDNN to version 5.\n",
      "  warnings.warn(warn)\n"
     ]
    }
   ],
   "source": [
    "from Executor import *"
   ]
  },
  {
   "cell_type": "code",
   "execution_count": 12,
   "metadata": {
    "collapsed": false
   },
   "outputs": [
    {
     "name": "stdout",
     "output_type": "stream",
     "text": [
      "Pretrained Vgg16 model loaded.\n",
      "Found 6255 images belonging to 3 classes.\n",
      "Found 1549 images belonging to 3 classes.\n",
      "initialized training data from: ../data/full/train\n",
      "initialized validation data from: ../data/full/valid\n",
      "found number of softmax classes: 3\n"
     ]
    }
   ],
   "source": [
    "\n",
    "executor = ExecutorBuilder().\\\n",
    "    with_runID(\"first\").\\\n",
    "    and_().\\\n",
    "    with_Vgg16().\\\n",
    "    and_().\\\n",
    "    train_batch_size(128). \\\n",
    "    and_(). \\\n",
    "    learn_rate(0.001).\\\n",
    "    and_().\\\n",
    "    data_on_path(\"../data/full/\").\\\n",
    "    build()\n"
   ]
  },
  {
   "cell_type": "code",
   "execution_count": 13,
   "metadata": {
    "collapsed": false
   },
   "outputs": [
    {
     "data": {
      "text/plain": [
       "<Executor.Executor instance at 0x7fc0a3f5e5a8>"
      ]
     },
     "execution_count": 13,
     "metadata": {},
     "output_type": "execute_result"
    }
   ],
   "source": [
    "executor.load_model_from_file()"
   ]
  },
  {
   "cell_type": "code",
   "execution_count": 14,
   "metadata": {
    "collapsed": false
   },
   "outputs": [
    {
     "name": "stdout",
     "output_type": "stream",
     "text": [
      "Epoch 1/5\n",
      "6255/6255 [==============================] - 199s - loss: 1.0716 - acc: 0.5378 - val_loss: 0.8749 - val_acc: 0.5791\n",
      "Epoch 2/5\n",
      "6255/6255 [==============================] - 198s - loss: 1.0151 - acc: 0.5527 - val_loss: 0.8928 - val_acc: 0.5642\n",
      "Epoch 3/5\n",
      "6255/6255 [==============================] - 198s - loss: 0.9926 - acc: 0.5511 - val_loss: 0.9106 - val_acc: 0.5597\n",
      "Epoch 4/5\n",
      "6255/6255 [==============================] - 198s - loss: 1.0002 - acc: 0.5596 - val_loss: 0.9034 - val_acc: 0.5830\n",
      "Epoch 5/5\n",
      "6255/6255 [==============================] - 198s - loss: 1.0070 - acc: 0.5557 - val_loss: 0.8766 - val_acc: 0.5707\n",
      "Vgg model finetuned.\n"
     ]
    },
    {
     "data": {
      "text/plain": [
       "<Executor.Executor instance at 0x7fc0a3f5e5a8>"
      ]
     },
     "execution_count": 14,
     "metadata": {},
     "output_type": "execute_result"
    }
   ],
   "source": [
    "executor.tune_softmax_layer_for_epochs(5)"
   ]
  },
  {
   "cell_type": "code",
   "execution_count": 15,
   "metadata": {
    "collapsed": false
   },
   "outputs": [
    {
     "name": "stdout",
     "output_type": "stream",
     "text": [
      "Found 512 images belonging to 1 classes.\n"
     ]
    },
    {
     "data": {
      "text/plain": [
       "<Executor.Executor instance at 0x7fc0a3f5e5a8>"
      ]
     },
     "execution_count": 15,
     "metadata": {},
     "output_type": "execute_result"
    }
   ],
   "source": [
    "executor.build_predictions_on_test_data().and_().save_predictions_to_file()"
   ]
  },
  {
   "cell_type": "code",
   "execution_count": 17,
   "metadata": {
    "collapsed": false
   },
   "outputs": [
    {
     "name": "stdout",
     "output_type": "stream",
     "text": [
      "('first dense layer at index: ', 33)\n",
      "all dense layers set trainable.\n",
      "Epoch 1/1\n",
      "6255/6255 [==============================] - 203s - loss: 7.7575 - acc: 0.5076 - val_loss: 7.9914 - val_acc: 0.5042\n"
     ]
    },
    {
     "ename": "AttributeError",
     "evalue": "'NoneType' object has no attribute 'and_'",
     "output_type": "error",
     "traceback": [
      "\u001b[0;31m---------------------------------------------------------------------------\u001b[0m",
      "\u001b[0;31mAttributeError\u001b[0m                            Traceback (most recent call last)",
      "\u001b[0;32m<ipython-input-17-4f9a57d58c73>\u001b[0m in \u001b[0;36m<module>\u001b[0;34m()\u001b[0m\n\u001b[1;32m      1\u001b[0m \u001b[0mexecutor\u001b[0m\u001b[0;34m.\u001b[0m\u001b[0muse_precomputed_conv_output\u001b[0m \u001b[0;34m=\u001b[0m \u001b[0mFalse\u001b[0m\u001b[0;34m\u001b[0m\u001b[0m\n\u001b[0;32m----> 2\u001b[0;31m \u001b[0mexecutor\u001b[0m\u001b[0;34m.\u001b[0m\u001b[0mmake_linear_layers_trainable\u001b[0m\u001b[0;34m(\u001b[0m\u001b[0;34m)\u001b[0m\u001b[0;34m.\u001b[0m\u001b[0mand_\u001b[0m\u001b[0;34m(\u001b[0m\u001b[0;34m)\u001b[0m\u001b[0;34m.\u001b[0m    \u001b[0mtrain_for_epochs\u001b[0m\u001b[0;34m(\u001b[0m\u001b[0;36m1\u001b[0m\u001b[0;34m)\u001b[0m\u001b[0;34m.\u001b[0m\u001b[0mand_\u001b[0m\u001b[0;34m(\u001b[0m\u001b[0;34m)\u001b[0m\u001b[0;34m.\u001b[0m    \u001b[0mbuild_predictions_on_test_data\u001b[0m\u001b[0;34m(\u001b[0m\u001b[0;34m)\u001b[0m\u001b[0;34m.\u001b[0m\u001b[0mand_\u001b[0m\u001b[0;34m(\u001b[0m\u001b[0;34m)\u001b[0m\u001b[0;34m.\u001b[0m    \u001b[0msave_predictions_to_file\u001b[0m\u001b[0;34m(\u001b[0m\u001b[0;34m)\u001b[0m\u001b[0;34m\u001b[0m\u001b[0m\n\u001b[0m",
      "\u001b[0;31mAttributeError\u001b[0m: 'NoneType' object has no attribute 'and_'"
     ]
    }
   ],
   "source": [
    "executor.use_precomputed_conv_output = False\n",
    "executor.make_linear_layers_trainable().and_().\\\n",
    "    train_for_epochs(1).and_().\\\n",
    "    build_predictions_on_test_data().and_().\\\n",
    "    save_predictions_to_file()"
   ]
  },
  {
   "cell_type": "code",
   "execution_count": null,
   "metadata": {
    "collapsed": true
   },
   "outputs": [],
   "source": []
  }
 ],
 "metadata": {
  "anaconda-cloud": {},
  "kernelspec": {
   "display_name": "Python [conda root]",
   "language": "python",
   "name": "conda-root-py"
  },
  "language_info": {
   "codemirror_mode": {
    "name": "ipython",
    "version": 2
   },
   "file_extension": ".py",
   "mimetype": "text/x-python",
   "name": "python",
   "nbconvert_exporter": "python",
   "pygments_lexer": "ipython2",
   "version": "2.7.12"
  }
 },
 "nbformat": 4,
 "nbformat_minor": 1
}
