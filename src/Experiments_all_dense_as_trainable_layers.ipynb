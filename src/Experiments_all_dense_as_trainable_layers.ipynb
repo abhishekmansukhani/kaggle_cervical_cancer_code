{
 "cells": [
  {
   "cell_type": "code",
   "execution_count": 3,
   "metadata": {
    "collapsed": false
   },
   "outputs": [
    {
     "name": "stderr",
     "output_type": "stream",
     "text": [
      "Using Theano backend.\n",
      "Using gpu device 0: Tesla K80 (CNMeM is disabled, cuDNN 5103)\n",
      "/home/ubuntu/anaconda2/lib/python2.7/site-packages/theano/sandbox/cuda/__init__.py:600: UserWarning: Your cuDNN version is more recent than the one Theano officially supports. If you see any problems, try updating Theano or downgrading cuDNN to version 5.\n",
      "  warnings.warn(warn)\n"
     ]
    },
    {
     "name": "stdout",
     "output_type": "stream",
     "text": [
      "Pretrained Vgg16 model loaded.\n",
      "Found 6255 images belonging to 3 classes.\n",
      "Found 1549 images belonging to 3 classes.\n",
      "initialized training data from: ../data/full/train\n",
      "initialized validation data from: ../data/full/valid\n",
      "found number of softmax classes: 3\n",
      "loading precomputed conv. outputs...\n",
      "done...\n"
     ]
    },
    {
     "data": {
      "text/plain": [
       "<Executor.Executor instance at 0x7f8d63aabdd0>"
      ]
     },
     "execution_count": 3,
     "metadata": {},
     "output_type": "execute_result"
    }
   ],
   "source": [
    "### Train all the layers\n",
    "from Executor import *\n",
    "\n",
    "executor = ExecutorBuilder().\\\n",
    "    with_runID(\"first\").\\\n",
    "    and_().\\\n",
    "    with_Vgg16().\\\n",
    "    and_().\\\n",
    "    train_batch_size(128). \\\n",
    "    and_(). \\\n",
    "    learn_rate(0.001).\\\n",
    "    and_().\\\n",
    "    data_on_path(\"../data/full/\").\\\n",
    "    build()\n",
    "\n",
    "\n",
    "executor.load_model_from_file() # loads a finetuned model that has been trained for 5 epochs\n",
    "executor.load_precomputed_conv_models()"
   ]
  },
  {
   "cell_type": "code",
   "execution_count": 4,
   "metadata": {
    "collapsed": true
   },
   "outputs": [],
   "source": []
  },
  {
   "cell_type": "code",
   "execution_count": 6,
   "metadata": {
    "collapsed": false
   },
   "outputs": [
    {
     "name": "stdout",
     "output_type": "stream",
     "text": [
      "getting rescaled fc model...\n",
      "found dense layer. Distributing scaled weights..\n",
      "found dense layer. Distributing scaled weights..\n",
      "found dense layer. Distributing scaled weights..\n",
      "found dense layer. Distributing scaled weights..\n",
      "found dense layer. Distributing scaled weights..\n",
      "found dense layer. Distributing scaled weights..\n",
      "found dense layer. Distributing scaled weights..\n",
      "done...\n",
      "('updating dropout from: ', 0.5, ' to: ', 0.5)\n",
      "('found trainable layer: ', <keras.layers.pooling.MaxPooling2D object at 0x7f8ca2ebdf10>)\n",
      "('found trainable layer: ', <keras.layers.core.Flatten object at 0x7f8ca2ebde10>)\n",
      "('found trainable layer: ', <keras.layers.core.Dense object at 0x7f8ca2ebd0d0>)\n",
      "('found trainable layer: ', <keras.layers.core.Dropout object at 0x7f8ca2ebdfd0>)\n",
      "('found trainable layer: ', <keras.layers.core.Dense object at 0x7f8ca2ec6050>)\n",
      "('found trainable layer: ', <keras.layers.core.Dropout object at 0x7f8ca2ec60d0>)\n",
      "('found trainable layer: ', <keras.layers.core.Dense object at 0x7f8ca2ec6110>)\n",
      "Train on 6255 samples, validate on 1549 samples\n",
      "Epoch 1/5\n",
      "6255/6255 [==============================] - 8s - loss: 1.1242 - acc: 0.4750 - val_loss: 1.0194 - val_acc: 0.5113\n",
      "Epoch 2/5\n",
      "6255/6255 [==============================] - 8s - loss: 1.0251 - acc: 0.5065 - val_loss: 1.0166 - val_acc: 0.5119\n",
      "Epoch 3/5\n",
      "6255/6255 [==============================] - 8s - loss: 1.0041 - acc: 0.5146 - val_loss: 1.0239 - val_acc: 0.5100\n",
      "Epoch 4/5\n",
      "6255/6255 [==============================] - 8s - loss: 0.9641 - acc: 0.5308 - val_loss: 1.0443 - val_acc: 0.4829\n",
      "Epoch 5/5\n",
      "6255/6255 [==============================] - 8s - loss: 0.9156 - acc: 0.5488 - val_loss: 1.0777 - val_acc: 0.4345\n"
     ]
    },
    {
     "data": {
      "text/plain": [
       "<keras.callbacks.History at 0x7f8c9da0e150>"
      ]
     },
     "execution_count": 6,
     "metadata": {},
     "output_type": "execute_result"
    }
   ],
   "source": [
    "linearModel = executor.get_rescaled_fc_model(new_dropout=executor.dropout)\n",
    "linearModel.compile(optimizer=Adam(lr=0.0001), loss='categorical_crossentropy', metrics = ['accuracy'])\n",
    "\n",
    "for layer in linearModel.layers:\n",
    "    if layer.trainable:\n",
    "        print(\"found trainable layer: \",layer)\n",
    "\n",
    "linearModel.fit(executor.train_precomputed, executor.train_labels, batch_size=executor.batch_size,\n",
    "                nb_epoch= 5, validation_data=(executor.val_precomputed, executor.val_labels))\n",
    "\n"
   ]
  },
  {
   "cell_type": "code",
   "execution_count": 9,
   "metadata": {
    "collapsed": false
   },
   "outputs": [
    {
     "name": "stdout",
     "output_type": "stream",
     "text": [
      "Train on 6255 samples, validate on 1549 samples\n",
      "Epoch 1/5\n",
      "6255/6255 [==============================] - 21s - loss: 0.7697 - acc: 0.6460 - val_loss: 1.1579 - val_acc: 0.4642\n",
      "Epoch 2/5\n",
      "6255/6255 [==============================] - 21s - loss: 0.6888 - acc: 0.6779 - val_loss: 1.2214 - val_acc: 0.4377\n",
      "Epoch 3/5\n",
      "6255/6255 [==============================] - 21s - loss: 0.6319 - acc: 0.7138 - val_loss: 1.2916 - val_acc: 0.4564\n",
      "Epoch 4/5\n",
      "6255/6255 [==============================] - 21s - loss: 0.5871 - acc: 0.7333 - val_loss: 1.3201 - val_acc: 0.4513\n",
      "Epoch 5/5\n",
      "6255/6255 [==============================] - 21s - loss: 0.5566 - acc: 0.7508 - val_loss: 1.3558 - val_acc: 0.4170\n"
     ]
    },
    {
     "data": {
      "text/plain": [
       "<keras.callbacks.History at 0x7f8c9dadf490>"
      ]
     },
     "execution_count": 9,
     "metadata": {},
     "output_type": "execute_result"
    }
   ],
   "source": [
    "linearModel.compile(optimizer=Adam(lr=0.00001), loss='categorical_crossentropy', metrics = ['accuracy'])\n",
    "\n",
    "linearModel.fit(executor.train_precomputed, executor.train_labels, batch_size=32,\n",
    "                nb_epoch= 5, validation_data=(executor.val_precomputed, executor.val_labels))\n",
    "\n"
   ]
  },
  {
   "cell_type": "code",
   "execution_count": null,
   "metadata": {
    "collapsed": true
   },
   "outputs": [],
   "source": []
  }
 ],
 "metadata": {
  "kernelspec": {
   "display_name": "Python [conda root]",
   "language": "python",
   "name": "conda-root-py"
  },
  "language_info": {
   "codemirror_mode": {
    "name": "ipython",
    "version": 2
   },
   "file_extension": ".py",
   "mimetype": "text/x-python",
   "name": "python",
   "nbconvert_exporter": "python",
   "pygments_lexer": "ipython2",
   "version": "2.7.12"
  }
 },
 "nbformat": 4,
 "nbformat_minor": 1
}
