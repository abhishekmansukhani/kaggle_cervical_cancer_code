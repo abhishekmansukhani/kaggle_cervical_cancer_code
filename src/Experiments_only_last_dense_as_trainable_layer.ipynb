{
 "cells": [
  {
   "cell_type": "code",
   "execution_count": 54,
   "metadata": {
    "collapsed": false
   },
   "outputs": [
    {
     "name": "stdout",
     "output_type": "stream",
     "text": [
      "Pretrained Vgg16 model loaded.\n",
      "Found 6255 images belonging to 3 classes.\n",
      "Found 1549 images belonging to 3 classes.\n",
      "initialized training data from: ../data/full/train\n",
      "initialized validation data from: ../data/full/valid\n",
      "found number of softmax classes: 3\n",
      "Epoch 1/1\n",
      "6255/6255 [==============================] - 187s - loss: 1.0607 - acc: 0.5361 - val_loss: 0.9428 - val_acc: 0.5190\n",
      "Vgg model finetuned.\n",
      "loading precomputed conv. outputs...\n",
      "done...\n"
     ]
    },
    {
     "data": {
      "text/plain": [
       "<Executor.Executor instance at 0x7f26107e1200>"
      ]
     },
     "execution_count": 54,
     "metadata": {},
     "output_type": "execute_result"
    }
   ],
   "source": [
    "from Executor import *\n",
    "\n",
    "\n",
    "executor = ExecutorBuilder().\\\n",
    "    with_runID(\"first\").\\\n",
    "    and_().\\\n",
    "    with_Vgg16().\\\n",
    "    and_().\\\n",
    "    train_batch_size(128). \\\n",
    "    and_(). \\\n",
    "    learn_rate(0.001).\\\n",
    "    and_().\\\n",
    "    data_on_path(\"../data/full/\").\\\n",
    "    build()\n",
    "\n",
    "executor.load_model_from_file() # loads a finetuned model that has been trained for 5 epochs\n",
    " \n",
    "executor.tune_softmax_layer_for_epochs(1) # just another run to ensure everything's right\n",
    "\n",
    "executor.load_precomputed_conv_models()"
   ]
  },
  {
   "cell_type": "code",
   "execution_count": null,
   "metadata": {
    "collapsed": true
   },
   "outputs": [],
   "source": [
    "def proc_wgts(layer): return [o for o in layer.get_weights()]\n",
    "\n",
    "def get_fc_model():\n",
    "    model = Sequential([\n",
    "        MaxPooling2D(input_shape=executor.conv_layers[-1].output_shape[1:]),\n",
    "        Flatten(),\n",
    "        Dense(4096, activation='relu'),\n",
    "        Dropout(0.5),\n",
    "        Dense(4096, activation='relu'),\n",
    "        Dropout(0.5),\n",
    "        Dense(3, activation='softmax')\n",
    "        ])\n",
    "\n",
    "    for l1,l2 in zip(model.layers, fc_layers): l1.set_weights(proc_wgts(l2))\n",
    "    return model"
   ]
  },
  {
   "cell_type": "code",
   "execution_count": 59,
   "metadata": {
    "collapsed": false
   },
   "outputs": [
    {
     "name": "stdout",
     "output_type": "stream",
     "text": [
      "setting last layer being trainable\n",
      "('found trainable layer: ', <keras.layers.core.Dense object at 0x7f260b279f10>)\n",
      "Train on 6255 samples, validate on 1549 samples\n",
      "Epoch 1/5\n",
      "6255/6255 [==============================] - 8s - loss: 1.1126 - acc: 0.4686 - val_loss: 1.0323 - val_acc: 0.5113\n",
      "Epoch 2/5\n",
      "6255/6255 [==============================] - 8s - loss: 1.0211 - acc: 0.5125 - val_loss: 1.0208 - val_acc: 0.5094\n",
      "Epoch 3/5\n",
      "6255/6255 [==============================] - 8s - loss: 0.9981 - acc: 0.5196 - val_loss: 1.0390 - val_acc: 0.5010\n",
      "Epoch 4/5\n",
      "6255/6255 [==============================] - 8s - loss: 0.9624 - acc: 0.5305 - val_loss: 1.0698 - val_acc: 0.5003\n",
      "Epoch 5/5\n",
      "6255/6255 [==============================] - 8s - loss: 0.9072 - acc: 0.5701 - val_loss: 1.0585 - val_acc: 0.5061\n"
     ]
    },
    {
     "data": {
      "text/plain": [
       "<keras.callbacks.History at 0x7f260a715950>"
      ]
     },
     "execution_count": 59,
     "metadata": {},
     "output_type": "execute_result"
    }
   ],
   "source": [
    "\n",
    "### Experiments with precomputed conv model outputs.\n",
    "## THE OBJECTIVE IS TO BE ABLE TO SAVE/LOAD PRECOMPUTED OUTPUT FROM CONV. LAYERS.\n",
    "## RIGHT NOW GIVING EXTREMELY LARGE LOG-LOSS\n",
    "\n",
    "linearModel = get_fc_model()\n",
    "linearModel.compile(optimizer=Adam(lr=0.0001), loss='categorical_crossentropy', metrics = ['accuracy'])\n",
    "\n",
    "j =0\n",
    "for layer in linearModel.layers:\n",
    "    j+=1\n",
    "    if(j==7):        \n",
    "        print(\"setting last layer being trainable\")\n",
    "        layer.trainable=True\n",
    "    else:\n",
    "        layer.trainable=False\n",
    "        \n",
    "\n",
    "for layer in linearModel.layers:\n",
    "    if layer.trainable:\n",
    "        print(\"found trainable layer: \",layer)\n",
    "\n",
    "linearModel.fit(executor.train_precomputed, executor.train_labels, batch_size=executor.batch_size,\n",
    "                nb_epoch= 5, validation_data=(executor.val_precomputed, executor.val_labels))\n",
    "\n",
    "# #---------- doesn't work.. wind up getting large log-loss ---------------------"
   ]
  },
  {
   "cell_type": "code",
   "execution_count": 60,
   "metadata": {
    "collapsed": false
   },
   "outputs": [
    {
     "name": "stdout",
     "output_type": "stream",
     "text": [
      "Train on 6255 samples, validate on 1549 samples\n",
      "Epoch 1/10\n",
      "6255/6255 [==============================] - 3s - loss: 0.8255 - acc: 0.6006 - val_loss: 1.0558 - val_acc: 0.5048\n",
      "Epoch 2/10\n",
      "6255/6255 [==============================] - 3s - loss: 0.8156 - acc: 0.6106 - val_loss: 1.0554 - val_acc: 0.5016\n",
      "Epoch 3/10\n",
      "6255/6255 [==============================] - 3s - loss: 0.8163 - acc: 0.6082 - val_loss: 1.0554 - val_acc: 0.4990\n",
      "Epoch 4/10\n",
      "6255/6255 [==============================] - 3s - loss: 0.8092 - acc: 0.6225 - val_loss: 1.0557 - val_acc: 0.4964\n",
      "Epoch 5/10\n",
      "6255/6255 [==============================] - 3s - loss: 0.8034 - acc: 0.6197 - val_loss: 1.0564 - val_acc: 0.4906\n",
      "Epoch 6/10\n",
      "6255/6255 [==============================] - 3s - loss: 0.8075 - acc: 0.6216 - val_loss: 1.0574 - val_acc: 0.4893\n",
      "Epoch 7/10\n",
      "6255/6255 [==============================] - 3s - loss: 0.8050 - acc: 0.6232 - val_loss: 1.0582 - val_acc: 0.4861\n",
      "Epoch 8/10\n",
      "6255/6255 [==============================] - 3s - loss: 0.7968 - acc: 0.6315 - val_loss: 1.0593 - val_acc: 0.4855\n",
      "Epoch 9/10\n",
      "6255/6255 [==============================] - 3s - loss: 0.7954 - acc: 0.6318 - val_loss: 1.0603 - val_acc: 0.4848\n",
      "Epoch 10/10\n",
      "6255/6255 [==============================] - 3s - loss: 0.7926 - acc: 0.6312 - val_loss: 1.0615 - val_acc: 0.4861\n"
     ]
    },
    {
     "data": {
      "text/plain": [
       "<keras.callbacks.History at 0x7f2609d64ed0>"
      ]
     },
     "execution_count": 60,
     "metadata": {},
     "output_type": "execute_result"
    }
   ],
   "source": [
    "linearModel.compile(optimizer=Adam(lr=0.00001), loss='categorical_crossentropy', metrics = ['accuracy'])\n",
    "linearModel.fit(executor.train_precomputed, executor.train_labels, batch_size=executor.batch_size,\n",
    "                nb_epoch= 10, validation_data=(executor.val_precomputed, executor.val_labels))\n"
   ]
  },
  {
   "cell_type": "code",
   "execution_count": null,
   "metadata": {
    "collapsed": true
   },
   "outputs": [],
   "source": []
  }
 ],
 "metadata": {
  "anaconda-cloud": {},
  "kernelspec": {
   "display_name": "Python [conda root]",
   "language": "python",
   "name": "conda-root-py"
  },
  "language_info": {
   "codemirror_mode": {
    "name": "ipython",
    "version": 2
   },
   "file_extension": ".py",
   "mimetype": "text/x-python",
   "name": "python",
   "nbconvert_exporter": "python",
   "pygments_lexer": "ipython2",
   "version": "2.7.12"
  }
 },
 "nbformat": 4,
 "nbformat_minor": 1
}
