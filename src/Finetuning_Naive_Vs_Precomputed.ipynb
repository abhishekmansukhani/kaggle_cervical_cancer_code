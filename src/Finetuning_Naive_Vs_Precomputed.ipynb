{
 "cells": [
  {
   "cell_type": "markdown",
   "metadata": {},
   "source": [
    "## Experiments\n",
    "### Running finetuning using entire VGG model VS using precomputed conv. model outputs\n",
    "### Conclusion: Precomputing the conv. model output seems fine... Final val_losss values \n",
    "### are very similar."
   ]
  },
  {
   "cell_type": "markdown",
   "metadata": {},
   "source": [
    "### Loading and Running the finetuning in plain old batches through the entire model"
   ]
  },
  {
   "cell_type": "code",
   "execution_count": 1,
   "metadata": {
    "collapsed": false
   },
   "outputs": [
    {
     "name": "stderr",
     "output_type": "stream",
     "text": [
      "Using Theano backend.\n",
      "Using gpu device 0: Tesla K80 (CNMeM is disabled, cuDNN 5103)\n",
      "/home/ubuntu/anaconda2/lib/python2.7/site-packages/theano/sandbox/cuda/__init__.py:600: UserWarning: Your cuDNN version is more recent than the one Theano officially supports. If you see any problems, try updating Theano or downgrading cuDNN to version 5.\n",
      "  warnings.warn(warn)\n"
     ]
    },
    {
     "name": "stdout",
     "output_type": "stream",
     "text": [
      "Pretrained Vgg16 model loaded.\n",
      "Found 6255 images belonging to 3 classes.\n",
      "Found 1549 images belonging to 3 classes.\n",
      "initialized training data from: ../data/full/train\n",
      "initialized validation data from: ../data/full/valid\n",
      "found number of softmax classes: 3\n"
     ]
    }
   ],
   "source": [
    "from Executor import *\n",
    "# Reset the model, and run same finetuning using precomputed conv. model outputs. See if they match...\n",
    "executor = ExecutorBuilder().\\\n",
    "    with_runID(\"first\").\\\n",
    "    and_().\\\n",
    "    with_Vgg16().\\\n",
    "    and_().\\\n",
    "    train_batch_size(128). \\\n",
    "    and_(). \\\n",
    "    learn_rate(0.001).\\\n",
    "    and_().\\\n",
    "    data_on_path(\"../data/full/\").\\\n",
    "    build()"
   ]
  },
  {
   "cell_type": "code",
   "execution_count": 2,
   "metadata": {
    "collapsed": false
   },
   "outputs": [
    {
     "name": "stdout",
     "output_type": "stream",
     "text": [
      "precomputing conv. model outputs..\n",
      "('models saved to files: ', 'precomputed_trn_features.first.h5', ' and ', 'precomputed_val_features.first.h5')\n",
      "done.\n"
     ]
    },
    {
     "data": {
      "text/plain": [
       "<Executor.Executor instance at 0x7fce4b696d88>"
      ]
     },
     "execution_count": 2,
     "metadata": {},
     "output_type": "execute_result"
    }
   ],
   "source": [
    "executor.precompute_conv_model_outputs()\n"
   ]
  },
  {
   "cell_type": "code",
   "execution_count": null,
   "metadata": {
    "collapsed": true
   },
   "outputs": [],
   "source": []
  },
  {
   "cell_type": "markdown",
   "metadata": {},
   "source": [
    "### Performing same operation using precomputed conv. model outputs"
   ]
  },
  {
   "cell_type": "code",
   "execution_count": 3,
   "metadata": {
    "collapsed": false
   },
   "outputs": [
    {
     "name": "stdout",
     "output_type": "stream",
     "text": [
      "loading precomputed conv. outputs...\n",
      "done...\n"
     ]
    },
    {
     "data": {
      "text/plain": [
       "<Executor.Executor instance at 0x7fce4b696d88>"
      ]
     },
     "execution_count": 3,
     "metadata": {},
     "output_type": "execute_result"
    }
   ],
   "source": [
    "executor.load_precomputed_conv_models()"
   ]
  },
  {
   "cell_type": "code",
   "execution_count": 4,
   "metadata": {
    "collapsed": false
   },
   "outputs": [
    {
     "name": "stdout",
     "output_type": "stream",
     "text": [
      "getting rescaled fc model...\n",
      "found dense layer. Distributing scaled weights..\n",
      "found dense layer. Distributing scaled weights..\n",
      "found dense layer. Distributing scaled weights..\n",
      "found dense layer. Distributing scaled weights..\n",
      "found dense layer. Distributing scaled weights..\n",
      "found dense layer. Distributing scaled weights..\n",
      "found dense layer. Distributing scaled weights..\n",
      "done...\n",
      "('updating dropout from: ', 0.5, ' to: ', 0.5)\n",
      "('found trainable layer: ', <keras.layers.core.Dense object at 0x7fce41d5f550>)\n"
     ]
    }
   ],
   "source": [
    "# Get the linear model \n",
    "linearModel = executor.get_rescaled_fc_model(new_dropout=executor.dropout)\n",
    "\n",
    "# Set all layers except the last as being trainable\n",
    "i=0\n",
    "for layer in linearModel.layers:\n",
    "    i+=1\n",
    "    if(i!=7):\n",
    "        layer.trainable=False\n",
    "    if layer.trainable:\n",
    "        print(\"found trainable layer: \",layer)\n"
   ]
  },
  {
   "cell_type": "code",
   "execution_count": 5,
   "metadata": {
    "collapsed": false,
    "scrolled": true
   },
   "outputs": [
    {
     "name": "stdout",
     "output_type": "stream",
     "text": [
      "Train on 6255 samples, validate on 1549 samples\n",
      "Epoch 1/5\n",
      "6255/6255 [==============================] - 3s - loss: 1.7486 - acc: 0.4480 - val_loss: 1.0942 - val_acc: 0.5339\n",
      "Epoch 2/5\n",
      "6255/6255 [==============================] - 3s - loss: 1.4125 - acc: 0.4854 - val_loss: 0.9470 - val_acc: 0.5449\n",
      "Epoch 3/5\n",
      "6255/6255 [==============================] - 3s - loss: 1.2658 - acc: 0.5058 - val_loss: 0.9190 - val_acc: 0.5565\n",
      "Epoch 4/5\n",
      "6255/6255 [==============================] - 3s - loss: 1.1813 - acc: 0.5132 - val_loss: 0.9132 - val_acc: 0.5481\n",
      "Epoch 5/5\n",
      "6255/6255 [==============================] - 3s - loss: 1.0951 - acc: 0.5303 - val_loss: 0.8989 - val_acc: 0.5668\n"
     ]
    },
    {
     "data": {
      "text/plain": [
       "<keras.callbacks.History at 0x7fce27b1be50>"
      ]
     },
     "execution_count": 5,
     "metadata": {},
     "output_type": "execute_result"
    }
   ],
   "source": [
    "# try fitting the model. Used an extremely small learning rate... still no avail\n",
    "linearModel.compile(optimizer=Adam(lr=0.001), loss='categorical_crossentropy', metrics = ['accuracy'])\n",
    "linearModel.fit(executor.train_precomputed, executor.train_labels, batch_size=executor.batch_size,\n",
    "                nb_epoch= 5, validation_data=(executor.val_precomputed, executor.val_labels))"
   ]
  },
  {
   "cell_type": "code",
   "execution_count": 6,
   "metadata": {
    "collapsed": false
   },
   "outputs": [
    {
     "name": "stdout",
     "output_type": "stream",
     "text": [
      "Train on 6255 samples, validate on 1549 samples\n",
      "Epoch 1/5\n",
      "6255/6255 [==============================] - 3s - loss: 1.0252 - acc: 0.5450 - val_loss: 0.8766 - val_acc: 0.5681\n",
      "Epoch 2/5\n",
      "6255/6255 [==============================] - 3s - loss: 0.9762 - acc: 0.5683 - val_loss: 0.8699 - val_acc: 0.5746\n",
      "Epoch 3/5\n",
      "6255/6255 [==============================] - 3s - loss: 0.9849 - acc: 0.5605 - val_loss: 0.8743 - val_acc: 0.5726\n",
      "Epoch 4/5\n",
      "6255/6255 [==============================] - 3s - loss: 0.9543 - acc: 0.5655 - val_loss: 0.8623 - val_acc: 0.5771\n",
      "Epoch 5/5\n",
      "6255/6255 [==============================] - 3s - loss: 0.9598 - acc: 0.5600 - val_loss: 0.8623 - val_acc: 0.5733\n"
     ]
    },
    {
     "data": {
      "text/plain": [
       "<keras.callbacks.History at 0x7fce2a0e6510>"
      ]
     },
     "execution_count": 6,
     "metadata": {},
     "output_type": "execute_result"
    }
   ],
   "source": [
    "linearModel.compile(optimizer=Adam(lr=0.0001), loss='categorical_crossentropy', metrics = ['accuracy'])\n",
    "linearModel.fit(executor.train_precomputed, executor.train_labels, batch_size=executor.batch_size,\n",
    "                nb_epoch= 5, validation_data=(executor.val_precomputed, executor.val_labels))"
   ]
  },
  {
   "cell_type": "code",
   "execution_count": 7,
   "metadata": {
    "collapsed": false,
    "scrolled": true
   },
   "outputs": [
    {
     "name": "stdout",
     "output_type": "stream",
     "text": [
      "Train on 6255 samples, validate on 1549 samples\n",
      "Epoch 1/5\n",
      "6255/6255 [==============================] - 3s - loss: 0.9604 - acc: 0.5635 - val_loss: 0.8590 - val_acc: 0.5817\n",
      "Epoch 2/5\n",
      "6255/6255 [==============================] - 3s - loss: 0.9459 - acc: 0.5691 - val_loss: 0.8585 - val_acc: 0.5771\n",
      "Epoch 3/5\n",
      "6255/6255 [==============================] - 3s - loss: 0.9463 - acc: 0.5677 - val_loss: 0.8579 - val_acc: 0.5765\n",
      "Epoch 4/5\n",
      "6255/6255 [==============================] - 3s - loss: 0.9501 - acc: 0.5597 - val_loss: 0.8582 - val_acc: 0.5759\n",
      "Epoch 5/5\n",
      "6255/6255 [==============================] - 3s - loss: 0.9536 - acc: 0.5703 - val_loss: 0.8574 - val_acc: 0.5771\n"
     ]
    },
    {
     "data": {
      "text/plain": [
       "<keras.callbacks.History at 0x7fce25c89950>"
      ]
     },
     "execution_count": 7,
     "metadata": {},
     "output_type": "execute_result"
    }
   ],
   "source": [
    "linearModel.compile(optimizer=Adam(lr=0.00001), loss='categorical_crossentropy', metrics = ['accuracy'])\n",
    "linearModel.fit(executor.train_precomputed, executor.train_labels, batch_size=executor.batch_size,\n",
    "                nb_epoch= 5, validation_data=(executor.val_precomputed, executor.val_labels))"
   ]
  },
  {
   "cell_type": "code",
   "execution_count": 8,
   "metadata": {
    "collapsed": false
   },
   "outputs": [
    {
     "name": "stdout",
     "output_type": "stream",
     "text": [
      "Train on 6255 samples, validate on 1549 samples\n",
      "Epoch 1/5\n",
      "6255/6255 [==============================] - 3s - loss: 0.9357 - acc: 0.5727 - val_loss: 0.8574 - val_acc: 0.5765\n",
      "Epoch 2/5\n",
      "6255/6255 [==============================] - 3s - loss: 0.9468 - acc: 0.5682 - val_loss: 0.8574 - val_acc: 0.5771\n",
      "Epoch 3/5\n",
      "6255/6255 [==============================] - 3s - loss: 0.9582 - acc: 0.5696 - val_loss: 0.8574 - val_acc: 0.5771\n",
      "Epoch 4/5\n",
      "6255/6255 [==============================] - 3s - loss: 0.9568 - acc: 0.5656 - val_loss: 0.8574 - val_acc: 0.5771\n",
      "Epoch 5/5\n",
      "6255/6255 [==============================] - 3s - loss: 0.9570 - acc: 0.5583 - val_loss: 0.8574 - val_acc: 0.5771\n"
     ]
    },
    {
     "data": {
      "text/plain": [
       "<keras.callbacks.History at 0x7fce29e30e10>"
      ]
     },
     "execution_count": 8,
     "metadata": {},
     "output_type": "execute_result"
    }
   ],
   "source": [
    "linearModel.compile(optimizer=Adam(lr=0.000001), loss='categorical_crossentropy', metrics = ['accuracy'])\n",
    "linearModel.fit(executor.train_precomputed, executor.train_labels, batch_size=executor.batch_size,\n",
    "                nb_epoch= 5, validation_data=(executor.val_precomputed, executor.val_labels))"
   ]
  },
  {
   "cell_type": "code",
   "execution_count": 9,
   "metadata": {
    "collapsed": false
   },
   "outputs": [
    {
     "data": {
      "text/plain": [
       "<Executor.Executor instance at 0x7fce4b696d88>"
      ]
     },
     "execution_count": 9,
     "metadata": {},
     "output_type": "execute_result"
    }
   ],
   "source": [
    "executor.init_vgg_with_retrained_fc_layers(linearModel)"
   ]
  },
  {
   "cell_type": "code",
   "execution_count": null,
   "metadata": {
    "collapsed": true
   },
   "outputs": [],
   "source": []
  }
 ],
 "metadata": {
  "anaconda-cloud": {},
  "kernelspec": {
   "display_name": "Python [conda root]",
   "language": "python",
   "name": "conda-root-py"
  },
  "language_info": {
   "codemirror_mode": {
    "name": "ipython",
    "version": 2
   },
   "file_extension": ".py",
   "mimetype": "text/x-python",
   "name": "python",
   "nbconvert_exporter": "python",
   "pygments_lexer": "ipython2",
   "version": "2.7.12"
  }
 },
 "nbformat": 4,
 "nbformat_minor": 1
}
