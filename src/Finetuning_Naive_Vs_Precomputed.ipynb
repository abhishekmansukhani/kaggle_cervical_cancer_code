{
 "cells": [
  {
   "cell_type": "markdown",
   "metadata": {},
   "source": [
    "## Experiments\n",
    "### Running finetuning using entire VGG model VS using precomputed conv. model outputs\n",
    "### Conclusion: Precomputing the conv. model output seems fine... Final val_losss values \n",
    "### are very similar."
   ]
  },
  {
   "cell_type": "markdown",
   "metadata": {},
   "source": [
    "### Loading and Running the finetuning in plain old batches through the entire model"
   ]
  },
  {
   "cell_type": "code",
   "execution_count": 1,
   "metadata": {
    "collapsed": false
   },
   "outputs": [
    {
     "name": "stderr",
     "output_type": "stream",
     "text": [
      "Using Theano backend.\n",
      "Using gpu device 0: Tesla K80 (CNMeM is disabled, cuDNN 5103)\n",
      "/home/ubuntu/anaconda2/lib/python2.7/site-packages/theano/sandbox/cuda/__init__.py:600: UserWarning: Your cuDNN version is more recent than the one Theano officially supports. If you see any problems, try updating Theano or downgrading cuDNN to version 5.\n",
      "  warnings.warn(warn)\n"
     ]
    },
    {
     "name": "stdout",
     "output_type": "stream",
     "text": [
      "Pretrained Vgg16 model loaded.\n",
      "Found 6255 images belonging to 3 classes.\n",
      "Found 1549 images belonging to 3 classes.\n",
      "initialized training data from: ../data/full/train\n",
      "initialized validation data from: ../data/full/valid\n",
      "found number of softmax classes: 3\n"
     ]
    }
   ],
   "source": [
    "from Executor import *\n",
    "# Reset the model, and run same finetuning using precomputed conv. model outputs. See if they match...\n",
    "executor = ExecutorBuilder().\\\n",
    "    with_runID(\"first\").\\\n",
    "    and_().\\\n",
    "    with_Vgg16().\\\n",
    "    and_().\\\n",
    "    train_batch_size(128). \\\n",
    "    and_(). \\\n",
    "    learn_rate(0.001).\\\n",
    "    and_().\\\n",
    "    data_on_path(\"../data/full/\").\\\n",
    "    build()"
   ]
  },
  {
   "cell_type": "code",
   "execution_count": 2,
   "metadata": {
    "collapsed": false
   },
   "outputs": [
    {
     "name": "stdout",
     "output_type": "stream",
     "text": [
      "precomputing conv. model outputs..\n",
      "Found 6255 images belonging to 3 classes.\n",
      "Found 1549 images belonging to 3 classes.\n",
      "('models saved to files: ', 'precomputed_trn_features.first.h5', ' and ', 'precomputed_val_features.first.h5')\n",
      "done.\n"
     ]
    },
    {
     "data": {
      "text/plain": [
       "<Executor.Executor instance at 0x7f9fa72eff80>"
      ]
     },
     "execution_count": 2,
     "metadata": {},
     "output_type": "execute_result"
    }
   ],
   "source": [
    "executor.precompute_conv_model_outputs()\n"
   ]
  },
  {
   "cell_type": "code",
   "execution_count": null,
   "metadata": {
    "collapsed": true
   },
   "outputs": [],
   "source": []
  },
  {
   "cell_type": "markdown",
   "metadata": {},
   "source": [
    "### Performing same operation using precomputed conv. model outputs"
   ]
  },
  {
   "cell_type": "code",
   "execution_count": 3,
   "metadata": {
    "collapsed": false
   },
   "outputs": [
    {
     "name": "stdout",
     "output_type": "stream",
     "text": [
      "loading precomputed conv. outputs...\n",
      "done...\n"
     ]
    },
    {
     "data": {
      "text/plain": [
       "<Executor.Executor instance at 0x7fce4b696d88>"
      ]
     },
     "execution_count": 3,
     "metadata": {},
     "output_type": "execute_result"
    }
   ],
   "source": [
    "executor.load_precomputed_conv_models()"
   ]
  },
  {
   "cell_type": "code",
   "execution_count": 3,
   "metadata": {
    "collapsed": false
   },
   "outputs": [
    {
     "name": "stdout",
     "output_type": "stream",
     "text": [
      "getting rescaled fc model...\n",
      "found dense layer. Distributing scaled weights..\n",
      "found dense layer. Distributing scaled weights..\n",
      "found dense layer. Distributing scaled weights..\n",
      "found dense layer. Distributing scaled weights..\n",
      "found dense layer. Distributing scaled weights..\n",
      "found dense layer. Distributing scaled weights..\n",
      "found dense layer. Distributing scaled weights..\n",
      "done...\n",
      "('updating dropout from: ', 0.5, ' to: ', 0.5)\n",
      "('found trainable layer: ', <keras.layers.core.Dense object at 0x7f9f9d687250>)\n"
     ]
    }
   ],
   "source": [
    "# Get the linear model \n",
    "linearModel = executor.get_rescaled_fc_model(new_dropout=executor.dropout)\n",
    "\n",
    "# Set all layers except the last as being trainable\n",
    "i=0\n",
    "for layer in linearModel.layers:\n",
    "    i+=1\n",
    "    if(i!=7):\n",
    "        layer.trainable=False\n",
    "    if layer.trainable:\n",
    "        print(\"found trainable layer: \",layer)\n"
   ]
  },
  {
   "cell_type": "code",
   "execution_count": 4,
   "metadata": {
    "collapsed": false,
    "scrolled": true
   },
   "outputs": [
    {
     "name": "stdout",
     "output_type": "stream",
     "text": [
      "Train on 6255 samples, validate on 1549 samples\n",
      "Epoch 1/5\n",
      "6255/6255 [==============================] - 3s - loss: 1.7946 - acc: 0.4334 - val_loss: 1.0027 - val_acc: 0.5281\n",
      "Epoch 2/5\n",
      "6255/6255 [==============================] - 3s - loss: 1.4086 - acc: 0.4884 - val_loss: 1.0035 - val_acc: 0.5526\n",
      "Epoch 3/5\n",
      "6255/6255 [==============================] - 3s - loss: 1.2796 - acc: 0.5044 - val_loss: 0.9618 - val_acc: 0.5642\n",
      "Epoch 4/5\n",
      "6255/6255 [==============================] - 3s - loss: 1.1832 - acc: 0.5175 - val_loss: 0.9027 - val_acc: 0.5578\n",
      "Epoch 5/5\n",
      "6255/6255 [==============================] - 3s - loss: 1.1090 - acc: 0.5276 - val_loss: 0.8867 - val_acc: 0.5752\n"
     ]
    },
    {
     "data": {
      "text/plain": [
       "<keras.callbacks.History at 0x7f9f8ee21d50>"
      ]
     },
     "execution_count": 4,
     "metadata": {},
     "output_type": "execute_result"
    }
   ],
   "source": [
    "# try fitting the model. Used an extremely small learning rate... still no avail\n",
    "linearModel.compile(optimizer=Adam(lr=0.001), loss='categorical_crossentropy', metrics = ['accuracy'])\n",
    "linearModel.fit(executor.train_precomputed, executor.train_labels, batch_size=executor.batch_size,\n",
    "                nb_epoch= 5, validation_data=(executor.val_precomputed, executor.val_labels))"
   ]
  },
  {
   "cell_type": "code",
   "execution_count": 5,
   "metadata": {
    "collapsed": false
   },
   "outputs": [
    {
     "name": "stdout",
     "output_type": "stream",
     "text": [
      "Train on 6255 samples, validate on 1549 samples\n",
      "Epoch 1/5\n",
      "6255/6255 [==============================] - 3s - loss: 1.0088 - acc: 0.5575 - val_loss: 0.8544 - val_acc: 0.5875\n",
      "Epoch 2/5\n",
      "6255/6255 [==============================] - 3s - loss: 1.0063 - acc: 0.5552 - val_loss: 0.8489 - val_acc: 0.5913\n",
      "Epoch 3/5\n",
      "6255/6255 [==============================] - 3s - loss: 0.9868 - acc: 0.5484 - val_loss: 0.8478 - val_acc: 0.5946\n",
      "Epoch 4/5\n",
      "6255/6255 [==============================] - 3s - loss: 0.9590 - acc: 0.5664 - val_loss: 0.8429 - val_acc: 0.6004\n",
      "Epoch 5/5\n",
      "6255/6255 [==============================] - 3s - loss: 0.9705 - acc: 0.5672 - val_loss: 0.8455 - val_acc: 0.5875\n"
     ]
    },
    {
     "data": {
      "text/plain": [
       "<keras.callbacks.History at 0x7f9f891b1190>"
      ]
     },
     "execution_count": 5,
     "metadata": {},
     "output_type": "execute_result"
    }
   ],
   "source": [
    "linearModel.compile(optimizer=Adam(lr=0.0001), loss='categorical_crossentropy', metrics = ['accuracy'])\n",
    "linearModel.fit(executor.train_precomputed, executor.train_labels, batch_size=executor.batch_size,\n",
    "                nb_epoch= 5, validation_data=(executor.val_precomputed, executor.val_labels))"
   ]
  },
  {
   "cell_type": "code",
   "execution_count": 6,
   "metadata": {
    "collapsed": false,
    "scrolled": true
   },
   "outputs": [
    {
     "name": "stdout",
     "output_type": "stream",
     "text": [
      "Train on 6255 samples, validate on 1549 samples\n",
      "Epoch 1/5\n",
      "6255/6255 [==============================] - 3s - loss: 0.9596 - acc: 0.5717 - val_loss: 0.8434 - val_acc: 0.5913\n",
      "Epoch 2/5\n",
      "6255/6255 [==============================] - 3s - loss: 0.9468 - acc: 0.5695 - val_loss: 0.8430 - val_acc: 0.5913\n",
      "Epoch 3/5\n",
      "6255/6255 [==============================] - 3s - loss: 0.9572 - acc: 0.5661 - val_loss: 0.8421 - val_acc: 0.5939\n",
      "Epoch 4/5\n",
      "6255/6255 [==============================] - 3s - loss: 0.9614 - acc: 0.5616 - val_loss: 0.8418 - val_acc: 0.5952\n",
      "Epoch 5/5\n",
      "6255/6255 [==============================] - 3s - loss: 0.9622 - acc: 0.5709 - val_loss: 0.8414 - val_acc: 0.5959\n"
     ]
    },
    {
     "data": {
      "text/plain": [
       "<keras.callbacks.History at 0x7f9f888038d0>"
      ]
     },
     "execution_count": 6,
     "metadata": {},
     "output_type": "execute_result"
    }
   ],
   "source": [
    "linearModel.compile(optimizer=Adam(lr=0.00001), loss='categorical_crossentropy', metrics = ['accuracy'])\n",
    "linearModel.fit(executor.train_precomputed, executor.train_labels, batch_size=executor.batch_size,\n",
    "                nb_epoch= 5, validation_data=(executor.val_precomputed, executor.val_labels))"
   ]
  },
  {
   "cell_type": "code",
   "execution_count": 7,
   "metadata": {
    "collapsed": false
   },
   "outputs": [
    {
     "name": "stdout",
     "output_type": "stream",
     "text": [
      "Train on 6255 samples, validate on 1549 samples\n",
      "Epoch 1/5\n",
      "6255/6255 [==============================] - 3s - loss: 0.9379 - acc: 0.5762 - val_loss: 0.8414 - val_acc: 0.5959\n",
      "Epoch 2/5\n",
      "6255/6255 [==============================] - 3s - loss: 0.9477 - acc: 0.5655 - val_loss: 0.8414 - val_acc: 0.5972\n",
      "Epoch 3/5\n",
      "6255/6255 [==============================] - 3s - loss: 0.9586 - acc: 0.5651 - val_loss: 0.8414 - val_acc: 0.5965\n",
      "Epoch 4/5\n",
      "6255/6255 [==============================] - 3s - loss: 0.9541 - acc: 0.5682 - val_loss: 0.8414 - val_acc: 0.5978\n",
      "Epoch 5/5\n",
      "6255/6255 [==============================] - 3s - loss: 0.9677 - acc: 0.5600 - val_loss: 0.8413 - val_acc: 0.5965\n"
     ]
    },
    {
     "data": {
      "text/plain": [
       "<keras.callbacks.History at 0x7f9f8f3bc550>"
      ]
     },
     "execution_count": 7,
     "metadata": {},
     "output_type": "execute_result"
    }
   ],
   "source": [
    "linearModel.compile(optimizer=Adam(lr=0.000001), loss='categorical_crossentropy', metrics = ['accuracy'])\n",
    "linearModel.fit(executor.train_precomputed, executor.train_labels, batch_size=executor.batch_size,\n",
    "                nb_epoch= 5, validation_data=(executor.val_precomputed, executor.val_labels))"
   ]
  },
  {
   "cell_type": "code",
   "execution_count": 8,
   "metadata": {
    "collapsed": false
   },
   "outputs": [
    {
     "data": {
      "text/plain": [
       "<Executor.Executor instance at 0x7f9fa72eff80>"
      ]
     },
     "execution_count": 8,
     "metadata": {},
     "output_type": "execute_result"
    }
   ],
   "source": [
    "executor.save_model_to_file()"
   ]
  },
  {
   "cell_type": "code",
   "execution_count": null,
   "metadata": {
    "collapsed": true
   },
   "outputs": [],
   "source": []
  }
 ],
 "metadata": {
  "anaconda-cloud": {},
  "kernelspec": {
   "display_name": "Python [conda root]",
   "language": "python",
   "name": "conda-root-py"
  },
  "language_info": {
   "codemirror_mode": {
    "name": "ipython",
    "version": 2
   },
   "file_extension": ".py",
   "mimetype": "text/x-python",
   "name": "python",
   "nbconvert_exporter": "python",
   "pygments_lexer": "ipython2",
   "version": "2.7.12"
  }
 },
 "nbformat": 4,
 "nbformat_minor": 1
}
