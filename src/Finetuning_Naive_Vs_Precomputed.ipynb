{
 "cells": [
  {
   "cell_type": "markdown",
   "metadata": {},
   "source": [
    "## Experiments\n",
    "### Running finetuning using entire VGG model VS using precomputed conv. model outputs"
   ]
  },
  {
   "cell_type": "markdown",
   "metadata": {},
   "source": [
    "### Loading and Running the finetuning in plain old batches through the entire model"
   ]
  },
  {
   "cell_type": "code",
   "execution_count": 14,
   "metadata": {
    "collapsed": false
   },
   "outputs": [
    {
     "name": "stdout",
     "output_type": "stream",
     "text": [
      "Pretrained Vgg16 model loaded.\n",
      "Found 6255 images belonging to 3 classes.\n",
      "Found 1549 images belonging to 3 classes.\n",
      "initialized training data from: ../data/full/train\n",
      "initialized validation data from: ../data/full/valid\n",
      "found number of softmax classes: 3\n"
     ]
    }
   ],
   "source": [
    "from Executor import *\n",
    "# Reset the model, and run same finetuning using precomputed conv. model outputs. See if they match...\n",
    "executor = ExecutorBuilder().\\\n",
    "    with_runID(\"first\").\\\n",
    "    and_().\\\n",
    "    with_Vgg16().\\\n",
    "    and_().\\\n",
    "    train_batch_size(128). \\\n",
    "    and_(). \\\n",
    "    learn_rate(0.001).\\\n",
    "    and_().\\\n",
    "    data_on_path(\"../data/full/\").\\\n",
    "    build()"
   ]
  },
  {
   "cell_type": "code",
   "execution_count": 15,
   "metadata": {
    "collapsed": false
   },
   "outputs": [
    {
     "name": "stdout",
     "output_type": "stream",
     "text": [
      "Epoch 1/3\n",
      "6255/6255 [==============================] - 183s - loss: 1.8112 - acc: 0.4406 - val_loss: 1.0254 - val_acc: 0.5423\n",
      "Epoch 2/3\n",
      "6255/6255 [==============================] - 182s - loss: 1.4456 - acc: 0.4902 - val_loss: 0.9752 - val_acc: 0.5436\n",
      "Epoch 3/3\n",
      "6255/6255 [==============================] - 182s - loss: 1.2545 - acc: 0.5052 - val_loss: 0.9401 - val_acc: 0.5565\n",
      "Vgg model finetuned.\n"
     ]
    },
    {
     "data": {
      "text/plain": [
       "<Executor.Executor instance at 0x7f3026add518>"
      ]
     },
     "execution_count": 15,
     "metadata": {},
     "output_type": "execute_result"
    }
   ],
   "source": [
    "executor.tune_softmax_layer_for_epochs(3)"
   ]
  },
  {
   "cell_type": "markdown",
   "metadata": {},
   "source": [
    "### Performing same operation using precomputed conv. model outputs"
   ]
  },
  {
   "cell_type": "code",
   "execution_count": 3,
   "metadata": {
    "collapsed": false
   },
   "outputs": [
    {
     "name": "stdout",
     "output_type": "stream",
     "text": [
      "loading precomputed conv. outputs...\n",
      "done...\n"
     ]
    },
    {
     "data": {
      "text/plain": [
       "<Executor.Executor instance at 0x7f31007c5998>"
      ]
     },
     "execution_count": 3,
     "metadata": {},
     "output_type": "execute_result"
    }
   ],
   "source": [
    "executor.load_precomputed_conv_models()"
   ]
  },
  {
   "cell_type": "code",
   "execution_count": 8,
   "metadata": {
    "collapsed": false
   },
   "outputs": [
    {
     "name": "stdout",
     "output_type": "stream",
     "text": [
      "getting rescaled fc model...\n",
      "found dense layer. Distributing scaled weights..\n",
      "found dense layer. Distributing scaled weights..\n",
      "found dense layer. Distributing scaled weights..\n",
      "found dense layer. Distributing scaled weights..\n",
      "found dense layer. Distributing scaled weights..\n",
      "found dense layer. Distributing scaled weights..\n",
      "found dense layer. Distributing scaled weights..\n",
      "done...\n",
      "('updating dropout from: ', 0.5, ' to: ', 0.5)\n",
      "('found trainable layer: ', <keras.layers.core.Dense object at 0x7f30e39c1690>)\n"
     ]
    }
   ],
   "source": [
    "# Get the linear model \n",
    "linearModel = executor.get_rescaled_fc_model(new_dropout=executor.dropout)\n",
    "\n",
    "# Set all layers except the last as being trainable\n",
    "i=0\n",
    "for layer in linearModel.layers:\n",
    "    i+=1\n",
    "    if(i!=7):\n",
    "        layer.trainable=False\n",
    "    if layer.trainable:\n",
    "        print(\"found trainable layer: \",layer)\n"
   ]
  },
  {
   "cell_type": "code",
   "execution_count": 9,
   "metadata": {
    "collapsed": false,
    "scrolled": true
   },
   "outputs": [
    {
     "name": "stdout",
     "output_type": "stream",
     "text": [
      "Train on 6255 samples, validate on 1549 samples\n",
      "Epoch 1/5\n",
      "6255/6255 [==============================] - 7s - loss: 1.9735 - acc: 0.3845 - val_loss: 1.2826 - val_acc: 0.4835\n",
      "Epoch 2/5\n",
      "6255/6255 [==============================] - 7s - loss: 1.8062 - acc: 0.4045 - val_loss: 1.2044 - val_acc: 0.4816\n",
      "Epoch 3/5\n",
      "6255/6255 [==============================] - 7s - loss: 1.7036 - acc: 0.4179 - val_loss: 1.1815 - val_acc: 0.4835\n",
      "Epoch 4/5\n",
      "6255/6255 [==============================] - 7s - loss: 1.6493 - acc: 0.4139 - val_loss: 1.1535 - val_acc: 0.4835\n",
      "Epoch 5/5\n",
      "6255/6255 [==============================] - 7s - loss: 1.5510 - acc: 0.4203 - val_loss: 1.1450 - val_acc: 0.4822\n"
     ]
    },
    {
     "data": {
      "text/plain": [
       "<keras.callbacks.History at 0x7f3027ce6fd0>"
      ]
     },
     "execution_count": 9,
     "metadata": {},
     "output_type": "execute_result"
    }
   ],
   "source": [
    "# try fitting the model. Used an extremely small learning rate... still no avail\n",
    "linearModel.compile(optimizer=Adam(lr=0.000001), loss='categorical_crossentropy', metrics = ['accuracy'])\n",
    "linearModel.fit(executor.train_precomputed, executor.train_labels, batch_size=executor.batch_size,\n",
    "                nb_epoch= 5, validation_data=(executor.val_precomputed, executor.val_labels))"
   ]
  },
  {
   "cell_type": "code",
   "execution_count": 10,
   "metadata": {
    "collapsed": false
   },
   "outputs": [
    {
     "name": "stdout",
     "output_type": "stream",
     "text": [
      "Train on 6255 samples, validate on 1549 samples\n",
      "Epoch 1/5\n",
      "6255/6255 [==============================] - 3s - loss: 1.4943 - acc: 0.4261 - val_loss: 1.1434 - val_acc: 0.4822\n",
      "Epoch 2/5\n",
      "6255/6255 [==============================] - 3s - loss: 1.5139 - acc: 0.4257 - val_loss: 1.1411 - val_acc: 0.4842\n",
      "Epoch 3/5\n",
      "6255/6255 [==============================] - 3s - loss: 1.4811 - acc: 0.4349 - val_loss: 1.1393 - val_acc: 0.4829\n",
      "Epoch 4/5\n",
      "6255/6255 [==============================] - 3s - loss: 1.5133 - acc: 0.4211 - val_loss: 1.1360 - val_acc: 0.4822\n",
      "Epoch 5/5\n",
      "6255/6255 [==============================] - 3s - loss: 1.5068 - acc: 0.4264 - val_loss: 1.1356 - val_acc: 0.4803\n"
     ]
    },
    {
     "data": {
      "text/plain": [
       "<keras.callbacks.History at 0x7f3027656a10>"
      ]
     },
     "execution_count": 10,
     "metadata": {},
     "output_type": "execute_result"
    }
   ],
   "source": [
    "linearModel.compile(optimizer=Adam(lr=0.00001), loss='categorical_crossentropy', metrics = ['accuracy'])\n",
    "linearModel.fit(executor.train_precomputed, executor.train_labels, batch_size=executor.batch_size,\n",
    "                nb_epoch= 5, validation_data=(executor.val_precomputed, executor.val_labels))"
   ]
  },
  {
   "cell_type": "code",
   "execution_count": 11,
   "metadata": {
    "collapsed": false,
    "scrolled": true
   },
   "outputs": [
    {
     "name": "stdout",
     "output_type": "stream",
     "text": [
      "Train on 6255 samples, validate on 1549 samples\n",
      "Epoch 1/5\n",
      "6255/6255 [==============================] - 3s - loss: 1.4818 - acc: 0.4257 - val_loss: 1.1028 - val_acc: 0.4771\n",
      "Epoch 2/5\n",
      "6255/6255 [==============================] - 3s - loss: 1.3043 - acc: 0.4371 - val_loss: 1.1057 - val_acc: 0.4868\n",
      "Epoch 3/5\n",
      "6255/6255 [==============================] - 3s - loss: 1.2354 - acc: 0.4531 - val_loss: 1.0777 - val_acc: 0.4693\n",
      "Epoch 4/5\n",
      "6255/6255 [==============================] - 3s - loss: 1.1974 - acc: 0.4540 - val_loss: 1.0890 - val_acc: 0.4881\n",
      "Epoch 5/5\n",
      "6255/6255 [==============================] - 3s - loss: 1.1599 - acc: 0.4638 - val_loss: 1.0998 - val_acc: 0.4099\n"
     ]
    },
    {
     "data": {
      "text/plain": [
       "<keras.callbacks.History at 0x7f3026da7310>"
      ]
     },
     "execution_count": 11,
     "metadata": {},
     "output_type": "execute_result"
    }
   ],
   "source": [
    "linearModel.compile(optimizer=Adam(lr=0.001), loss='categorical_crossentropy', metrics = ['accuracy'])\n",
    "linearModel.fit(executor.train_precomputed, executor.train_labels, batch_size=executor.batch_size,\n",
    "                nb_epoch= 5, validation_data=(executor.val_precomputed, executor.val_labels))"
   ]
  },
  {
   "cell_type": "code",
   "execution_count": null,
   "metadata": {
    "collapsed": true
   },
   "outputs": [],
   "source": []
  }
 ],
 "metadata": {
  "kernelspec": {
   "display_name": "Python [conda root]",
   "language": "python",
   "name": "conda-root-py"
  },
  "language_info": {
   "codemirror_mode": {
    "name": "ipython",
    "version": 2
   },
   "file_extension": ".py",
   "mimetype": "text/x-python",
   "name": "python",
   "nbconvert_exporter": "python",
   "pygments_lexer": "ipython2",
   "version": "2.7.12"
  }
 },
 "nbformat": 4,
 "nbformat_minor": 1
}
