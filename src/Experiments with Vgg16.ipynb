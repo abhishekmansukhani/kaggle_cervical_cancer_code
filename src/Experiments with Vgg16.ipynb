{
 "cells": [
  {
   "cell_type": "code",
   "execution_count": 1,
   "metadata": {
    "collapsed": false
   },
   "outputs": [
    {
     "name": "stderr",
     "output_type": "stream",
     "text": [
      "Using Theano backend.\n",
      "Using gpu device 0: Tesla K80 (CNMeM is disabled, cuDNN 5103)\n",
      "/home/ubuntu/anaconda2/lib/python2.7/site-packages/theano/sandbox/cuda/__init__.py:600: UserWarning: Your cuDNN version is more recent than the one Theano officially supports. If you see any problems, try updating Theano or downgrading cuDNN to version 5.\n",
      "  warnings.warn(warn)\n"
     ]
    }
   ],
   "source": [
    "from Executor import *"
   ]
  },
  {
   "cell_type": "code",
   "execution_count": 2,
   "metadata": {
    "collapsed": false
   },
   "outputs": [
    {
     "name": "stdout",
     "output_type": "stream",
     "text": [
      "Downloading data from file:///home/ubuntu/kaggle_cervical_cancer_code/src/models/vgg16.h5\n",
      "552722432/553482496 [============================>.] - ETA: 0sPretrained Vgg16 model loaded.\n",
      "Found 6255 images belonging to 3 classes.\n",
      "Found 1549 images belonging to 3 classes.\n",
      "initialized training data from: ../data/full/train\n",
      "initialized validation data from: ../data/full/valid\n",
      "found number of softmax classes: 3\n"
     ]
    }
   ],
   "source": [
    "# Reset the model, and run same finetuning using precomputed conv. model outputs. See if they match...\n",
    "executor = ExecutorBuilder().\\\n",
    "    with_runID(\"first\").\\\n",
    "    and_().\\\n",
    "    with_Vgg16().\\\n",
    "    and_().\\\n",
    "    train_batch_size(128). \\\n",
    "    and_(). \\\n",
    "    learn_rate(0.001).\\\n",
    "    and_().\\\n",
    "    data_on_path(\"../data/full/\").\\\n",
    "    build()"
   ]
  },
  {
   "cell_type": "code",
   "execution_count": 3,
   "metadata": {
    "collapsed": false
   },
   "outputs": [
    {
     "name": "stdout",
     "output_type": "stream",
     "text": [
      "loading precomputed conv. outputs...\n",
      "done...\n"
     ]
    },
    {
     "data": {
      "text/plain": [
       "<Executor.Executor instance at 0x7feec6931368>"
      ]
     },
     "execution_count": 3,
     "metadata": {},
     "output_type": "execute_result"
    }
   ],
   "source": [
    "executor.load_precomputed_conv_models()"
   ]
  },
  {
   "cell_type": "code",
   "execution_count": 15,
   "metadata": {
    "collapsed": false
   },
   "outputs": [
    {
     "name": "stdout",
     "output_type": "stream",
     "text": [
      "getting rescaled fc model...\n",
      "found dense layer. Distributing scaled weights..\n",
      "found dense layer. Distributing scaled weights..\n",
      "found dense layer. Distributing scaled weights..\n",
      "found dense layer. Distributing scaled weights..\n",
      "found dense layer. Distributing scaled weights..\n",
      "found dense layer. Distributing scaled weights..\n",
      "found dense layer. Distributing scaled weights..\n",
      "done...\n",
      "('updating dropout from: ', 0.5, ' to: ', 0.5)\n"
     ]
    }
   ],
   "source": [
    "fc_model = executor.get_rescaled_fc_model(new_dropout=0.5)"
   ]
  },
  {
   "cell_type": "code",
   "execution_count": 16,
   "metadata": {
    "collapsed": true
   },
   "outputs": [],
   "source": [
    "for layer in fc_model.layers:\n",
    "    layer.trainable = False\n",
    "\n",
    "fc_model.layers[-1].trainable = True"
   ]
  },
  {
   "cell_type": "code",
   "execution_count": 17,
   "metadata": {
    "collapsed": false
   },
   "outputs": [
    {
     "name": "stdout",
     "output_type": "stream",
     "text": [
      "fine tuning the rescaled fc model...\n",
      "Train on 6255 samples, validate on 1549 samples\n",
      "Epoch 1/5\n",
      "6255/6255 [==============================] - 3s - loss: 1.7423 - acc: 0.4555 - val_loss: 1.0231 - val_acc: 0.5016\n",
      "Epoch 2/5\n",
      "6255/6255 [==============================] - 3s - loss: 1.4068 - acc: 0.4876 - val_loss: 0.9394 - val_acc: 0.5752\n",
      "Epoch 3/5\n",
      "6255/6255 [==============================] - 3s - loss: 1.2514 - acc: 0.5034 - val_loss: 0.9273 - val_acc: 0.5539\n",
      "Epoch 4/5\n",
      "6255/6255 [==============================] - 2s - loss: 1.1570 - acc: 0.5205 - val_loss: 0.9133 - val_acc: 0.5688\n",
      "Epoch 5/5\n",
      "6255/6255 [==============================] - 2s - loss: 1.0965 - acc: 0.5330 - val_loss: 0.8953 - val_acc: 0.5771\n"
     ]
    },
    {
     "data": {
      "text/plain": [
       "<keras.callbacks.History at 0x7fee008910d0>"
      ]
     },
     "execution_count": 17,
     "metadata": {},
     "output_type": "execute_result"
    }
   ],
   "source": [
    "opt = Adam(lr=0.001)\n",
    "fc_model.compile(optimizer=opt, loss='categorical_crossentropy', metrics=['accuracy'])\n",
    "\n",
    "print(\"fine tuning the rescaled fc model...\")\n",
    "fc_model.fit(executor.train_precomputed, executor.train_labels, nb_epoch=5,\n",
    "               batch_size= executor.batch_size, validation_data=(executor.val_precomputed, executor.val_labels))"
   ]
  },
  {
   "cell_type": "code",
   "execution_count": 18,
   "metadata": {
    "collapsed": false
   },
   "outputs": [
    {
     "name": "stdout",
     "output_type": "stream",
     "text": [
      "fine tuning the rescaled fc model...\n",
      "Train on 6255 samples, validate on 1549 samples\n",
      "Epoch 1/10\n",
      "6255/6255 [==============================] - 3s - loss: 0.9987 - acc: 0.5541 - val_loss: 0.8591 - val_acc: 0.5881\n",
      "Epoch 2/10\n",
      "6255/6255 [==============================] - 2s - loss: 1.0054 - acc: 0.5477 - val_loss: 0.8552 - val_acc: 0.5830\n",
      "Epoch 3/10\n",
      "6255/6255 [==============================] - 2s - loss: 0.9889 - acc: 0.5496 - val_loss: 0.8506 - val_acc: 0.5804\n",
      "Epoch 4/10\n",
      "6255/6255 [==============================] - 2s - loss: 0.9836 - acc: 0.5501 - val_loss: 0.8505 - val_acc: 0.5836\n",
      "Epoch 5/10\n",
      "6255/6255 [==============================] - 2s - loss: 0.9684 - acc: 0.5591 - val_loss: 0.8475 - val_acc: 0.5946\n",
      "Epoch 6/10\n",
      "6255/6255 [==============================] - 2s - loss: 0.9537 - acc: 0.5620 - val_loss: 0.8493 - val_acc: 0.5875\n",
      "Epoch 7/10\n",
      "6255/6255 [==============================] - 2s - loss: 0.9298 - acc: 0.5675 - val_loss: 0.8463 - val_acc: 0.5868\n",
      "Epoch 8/10\n",
      "6255/6255 [==============================] - 2s - loss: 0.9314 - acc: 0.5699 - val_loss: 0.8450 - val_acc: 0.5888\n",
      "Epoch 9/10\n",
      "6255/6255 [==============================] - 2s - loss: 0.9349 - acc: 0.5661 - val_loss: 0.8437 - val_acc: 0.5920\n",
      "Epoch 10/10\n",
      "6255/6255 [==============================] - 2s - loss: 0.9305 - acc: 0.5651 - val_loss: 0.8413 - val_acc: 0.5939\n"
     ]
    },
    {
     "data": {
      "text/plain": [
       "<keras.callbacks.History at 0x7fedfb559e50>"
      ]
     },
     "execution_count": 18,
     "metadata": {},
     "output_type": "execute_result"
    }
   ],
   "source": [
    "opt = Adam(lr=0.0001)\n",
    "fc_model.compile(optimizer=opt, loss='categorical_crossentropy', metrics=['accuracy'])\n",
    "\n",
    "print(\"fine tuning the rescaled fc model...\")\n",
    "fc_model.fit(executor.train_precomputed, executor.train_labels, nb_epoch=10,\n",
    "               batch_size= executor.batch_size, validation_data=(executor.val_precomputed, executor.val_labels))"
   ]
  },
  {
   "cell_type": "code",
   "execution_count": 19,
   "metadata": {
    "collapsed": true
   },
   "outputs": [],
   "source": [
    "for layer in fc_model.layers:\n",
    "    layer.trainable = True"
   ]
  },
  {
   "cell_type": "code",
   "execution_count": 20,
   "metadata": {
    "collapsed": false
   },
   "outputs": [
    {
     "name": "stdout",
     "output_type": "stream",
     "text": [
      "fine tuning the rescaled fc model...\n",
      "Train on 6255 samples, validate on 1549 samples\n",
      "Epoch 1/3\n",
      "6255/6255 [==============================] - 7s - loss: 0.8977 - acc: 0.5767 - val_loss: 0.8123 - val_acc: 0.6030\n",
      "Epoch 2/3\n",
      "6255/6255 [==============================] - 7s - loss: 0.7597 - acc: 0.6587 - val_loss: 0.7726 - val_acc: 0.6359\n",
      "Epoch 3/3\n",
      "6255/6255 [==============================] - 7s - loss: 0.6622 - acc: 0.7098 - val_loss: 0.7394 - val_acc: 0.6585\n"
     ]
    },
    {
     "data": {
      "text/plain": [
       "<keras.callbacks.History at 0x7fee006ab150>"
      ]
     },
     "execution_count": 20,
     "metadata": {},
     "output_type": "execute_result"
    }
   ],
   "source": [
    "opt = Adam(lr=0.00001)\n",
    "fc_model.compile(optimizer=opt, loss='categorical_crossentropy', metrics=['accuracy'])\n",
    "\n",
    "print(\"fine tuning the rescaled fc model...\")\n",
    "fc_model.fit(executor.train_precomputed, executor.train_labels, nb_epoch=3,\n",
    "               batch_size= executor.batch_size, validation_data=(executor.val_precomputed, executor.val_labels))"
   ]
  },
  {
   "cell_type": "code",
   "execution_count": 21,
   "metadata": {
    "collapsed": false
   },
   "outputs": [
    {
     "name": "stdout",
     "output_type": "stream",
     "text": [
      "fine tuning the rescaled fc model...\n",
      "Train on 6255 samples, validate on 1549 samples\n",
      "Epoch 1/3\n",
      "6255/6255 [==============================] - 7s - loss: 0.5668 - acc: 0.7592 - val_loss: 0.7110 - val_acc: 0.6746\n",
      "Epoch 2/3\n",
      "6255/6255 [==============================] - 7s - loss: 0.4855 - acc: 0.7971 - val_loss: 0.6995 - val_acc: 0.6856\n",
      "Epoch 3/3\n",
      "6255/6255 [==============================] - 7s - loss: 0.3982 - acc: 0.8398 - val_loss: 0.6909 - val_acc: 0.6934\n"
     ]
    },
    {
     "data": {
      "text/plain": [
       "<keras.callbacks.History at 0x7fee00891610>"
      ]
     },
     "execution_count": 21,
     "metadata": {},
     "output_type": "execute_result"
    }
   ],
   "source": [
    "print(\"fine tuning the rescaled fc model...\")\n",
    "fc_model.fit(executor.train_precomputed, executor.train_labels, nb_epoch=3,\n",
    "               batch_size= executor.batch_size, validation_data=(executor.val_precomputed, executor.val_labels))"
   ]
  },
  {
   "cell_type": "code",
   "execution_count": 22,
   "metadata": {
    "collapsed": false
   },
   "outputs": [
    {
     "name": "stdout",
     "output_type": "stream",
     "text": [
      "fine tuning the rescaled fc model...\n",
      "Train on 6255 samples, validate on 1549 samples\n",
      "Epoch 1/2\n",
      "6255/6255 [==============================] - 7s - loss: 0.3243 - acc: 0.8843 - val_loss: 0.6912 - val_acc: 0.6992\n",
      "Epoch 2/2\n",
      "6255/6255 [==============================] - 7s - loss: 0.2566 - acc: 0.9106 - val_loss: 0.6881 - val_acc: 0.7043\n"
     ]
    },
    {
     "data": {
      "text/plain": [
       "<keras.callbacks.History at 0x7fee006be6d0>"
      ]
     },
     "execution_count": 22,
     "metadata": {},
     "output_type": "execute_result"
    }
   ],
   "source": [
    "print(\"fine tuning the rescaled fc model...\")\n",
    "fc_model.fit(executor.train_precomputed, executor.train_labels, nb_epoch=2,\n",
    "               batch_size= executor.batch_size, validation_data=(executor.val_precomputed, executor.val_labels))"
   ]
  },
  {
   "cell_type": "code",
   "execution_count": 24,
   "metadata": {
    "collapsed": false
   },
   "outputs": [
    {
     "data": {
      "text/plain": [
       "<Executor.Executor instance at 0x7feec6931368>"
      ]
     },
     "execution_count": 24,
     "metadata": {},
     "output_type": "execute_result"
    }
   ],
   "source": [
    "executor.init_vgg_with_retrained_fc_layers(fc_model)"
   ]
  },
  {
   "cell_type": "code",
   "execution_count": 25,
   "metadata": {
    "collapsed": false
   },
   "outputs": [
    {
     "data": {
      "text/plain": [
       "<Executor.Executor instance at 0x7feec6931368>"
      ]
     },
     "execution_count": 25,
     "metadata": {},
     "output_type": "execute_result"
    }
   ],
   "source": [
    "executor.save_model_to_file()"
   ]
  },
  {
   "cell_type": "code",
   "execution_count": 26,
   "metadata": {
    "collapsed": false
   },
   "outputs": [
    {
     "name": "stdout",
     "output_type": "stream",
     "text": [
      "Found 512 images belonging to 1 classes.\n"
     ]
    },
    {
     "data": {
      "text/plain": [
       "<Executor.Executor instance at 0x7feec6931368>"
      ]
     },
     "execution_count": 26,
     "metadata": {},
     "output_type": "execute_result"
    }
   ],
   "source": [
    "executor.build_predictions_on_test_data().and_().save_predictions_to_file(\"best\")"
   ]
  },
  {
   "cell_type": "code",
   "execution_count": null,
   "metadata": {
    "collapsed": true
   },
   "outputs": [],
   "source": []
  }
 ],
 "metadata": {
  "anaconda-cloud": {},
  "kernelspec": {
   "display_name": "Python [conda root]",
   "language": "python",
   "name": "conda-root-py"
  },
  "language_info": {
   "codemirror_mode": {
    "name": "ipython",
    "version": 2
   },
   "file_extension": ".py",
   "mimetype": "text/x-python",
   "name": "python",
   "nbconvert_exporter": "python",
   "pygments_lexer": "ipython2",
   "version": "2.7.12"
  }
 },
 "nbformat": 4,
 "nbformat_minor": 1
}
